{
 "cells": [
  {
   "cell_type": "code",
   "execution_count": 13,
   "id": "da432069-0f10-4585-bbd1-ebc53f43d42d",
   "metadata": {},
   "outputs": [
    {
     "name": "stdout",
     "output_type": "stream",
     "text": [
      "Resultados de la prueba de Anderson-Darling para la estación M_009_A_II\n",
      "Estadístico de Anderson-Darling: 10.49975548178827\n",
      "Valor p aproximado: 3.76e-24\n",
      "La hipótesis nula se rechaza al nivel de significancia 0.05.\n",
      "Resultados de la prueba de Anderson-Darling para la estación M_015_A_II\n",
      "Estadístico de Anderson-Darling: 6.122623139941425\n",
      "Valor p aproximado: 4.83e-15\n",
      "La hipótesis nula se rechaza al nivel de significancia 0.05.\n",
      "Resultados de la prueba de Anderson-Darling para la estación M_017_A_II\n",
      "Estadístico de Anderson-Darling: 34.847112534873304\n",
      "Valor p aproximado: 3.76e-24\n",
      "La hipótesis nula se rechaza al nivel de significancia 0.05.\n",
      "Resultados de la prueba de Anderson-Darling para la estación M_023_A_II\n",
      "Estadístico de Anderson-Darling: 13.530987383881438\n",
      "Valor p aproximado: 3.76e-24\n",
      "La hipótesis nula se rechaza al nivel de significancia 0.05.\n"
     ]
    }
   ],
   "source": [
    "import pandas as pd\n",
    "from scipy.stats import anderson\n",
    "import numpy as np\n",
    "\n",
    "def anderson_darling_p_value(statistic):\n",
    "    \"\"\"Calcula el valor p aproximado para el estadístico de Anderson-Darling.\"\"\"\n",
    "    if statistic < 0.2:\n",
    "        return 1 - np.exp(-13.436 + 101.14 * statistic - 223.73 * statistic**2)\n",
    "    elif statistic < 0.34:\n",
    "        return 1 - np.exp(-8.318 + 42.796 * statistic - 59.938 * statistic**2)\n",
    "    elif statistic < 0.6:\n",
    "        return np.exp(0.9177 - 4.279 * statistic - 1.38 * statistic**2)\n",
    "    elif statistic < 10:\n",
    "        return np.exp(1.2937 - 5.709 * statistic + 0.0186 * statistic**2)\n",
    "    else:\n",
    "        return np.exp(1.2937 - 5.709 * 10 + 0.0186 * 10**2)\n",
    "\n",
    "# Cargar el archivo CSV\n",
    "df = pd.read_csv(\"TempMin.csv\")\n",
    "\n",
    "# Obtener la lista de estaciones únicas\n",
    "estaciones = df['ID_CIDERH'].unique()\n",
    "\n",
    "# Nivel de significancia para la prueba de Anderson-Darling\n",
    "significance_level = 0.05\n",
    "\n",
    "# Iterar sobre cada estación\n",
    "for estacion_id in estaciones:\n",
    "    # Filtrar los datos para la estación ID_CIDERH específica\n",
    "    estacion_data = df[df['ID_CIDERH'] == estacion_id]\n",
    "\n",
    "    # Seleccionar la variable de interés (TEMP_MIN_RBE)\n",
    "    temp_min_data = estacion_data['TEMP_MIN_RBE']\n",
    "\n",
    "    # Eliminar valores NaN si es necesario\n",
    "    temp_min_data = temp_min_data.dropna()\n",
    "\n",
    "    # Calcular la prueba de Anderson-Darling\n",
    "    result = anderson(temp_min_data, dist='norm')\n",
    "\n",
    "    print(\"Resultados de la prueba de Anderson-Darling para la estación\", estacion_id)\n",
    "    print(\"Estadístico de Anderson-Darling:\", result.statistic)\n",
    "\n",
    "    # Calcular el valor p aproximado\n",
    "    p_value = anderson_darling_p_value(result.statistic)\n",
    "    print(\"Valor p aproximado: {:.2e}\".format(p_value))\n",
    "\n",
    "    # Evaluar si se rechaza la hipótesis nula al nivel de significancia dado\n",
    "    if p_value < significance_level:\n",
    "        print(f\"La hipótesis nula se rechaza al nivel de significancia {significance_level}.\")\n",
    "    else:\n",
    "        print(f\"No se puede rechazar la hipótesis nula al nivel de significancia {significance_level}.\")"
   ]
  },
  {
   "cell_type": "code",
   "execution_count": 2,
   "id": "a4d89883",
   "metadata": {},
   "outputs": [
    {
     "name": "stdout",
     "output_type": "stream",
     "text": [
      "Estación: M_009_A_II\n",
      "Estadístico de prueba: 0.03092325592047729\n",
      "P-valor: 0.0009999999999998899\n",
      "Estación: M_015_A_II\n",
      "Estadístico de prueba: 0.03720962602317496\n",
      "P-valor: 0.0009999999999998899\n",
      "Estación: M_017_A_II\n",
      "Estadístico de prueba: 0.056355530295224554\n",
      "P-valor: 0.0009999999999998899\n",
      "Estación: M_023_A_II\n",
      "Estadístico de prueba: 0.03224853244296633\n",
      "P-valor: 0.0009999999999998899\n"
     ]
    }
   ],
   "source": [
    "from statsmodels.stats.diagnostic import lilliefors\n",
    "\n",
    "# Cargar datos desde el archivo CSV\n",
    "archivo_csv = \"TempMin.csv\"\n",
    "datos = pd.read_csv(archivo_csv, low_memory=False)\n",
    "\n",
    "# Filtrar datos para la variable TEMP_MIN_RBE\n",
    "variable_interes = 'TEMP_MIN_RBE'\n",
    "\n",
    "# Iterar sobre cada estación meteorológica\n",
    "estaciones = datos['ID_CIDERH'].unique()\n",
    "\n",
    "for estacion in estaciones:\n",
    "    # Filtrar datos para la estación actual\n",
    "    datos_estacion = datos[datos['ID_CIDERH'] == estacion][variable_interes]\n",
    "\n",
    "    # Realizar prueba de normalidad de Lilliefors\n",
    "    estadistico, p_valor = lilliefors(datos_estacion)\n",
    "\n",
    "    # Imprimir resultados\n",
    "    print(f\"Estación: {estacion}\")\n",
    "    print(f\"Estadístico de prueba: {estadistico}\")\n",
    "    print(f\"P-valor: {p_valor}\")"
   ]
  },
  {
   "cell_type": "code",
   "execution_count": 9,
   "id": "469f9776",
   "metadata": {},
   "outputs": [
    {
     "name": "stdout",
     "output_type": "stream",
     "text": [
      "Resultados de la prueba de Kolmogorov-Smirnov para la estación M_009_A_II\n",
      "Estadístico de prueba: 0.03092325592047751\n",
      "Valor p: 1.36e-05\n",
      "La hipótesis nula se rechaza al nivel de significancia 0.05.\n",
      "Resultados de la prueba de Kolmogorov-Smirnov para la estación M_015_A_II\n",
      "Estadístico de prueba: 0.037209626023174125\n",
      "Valor p: 1.00e-06\n",
      "La hipótesis nula se rechaza al nivel de significancia 0.05.\n",
      "Resultados de la prueba de Kolmogorov-Smirnov para la estación M_017_A_II\n",
      "Estadístico de prueba: 0.056355530295224554\n",
      "Valor p: 1.39e-17\n",
      "La hipótesis nula se rechaza al nivel de significancia 0.05.\n",
      "Resultados de la prueba de Kolmogorov-Smirnov para la estación M_023_A_II\n",
      "Estadístico de prueba: 0.032248532442965994\n",
      "Valor p: 4.80e-06\n",
      "La hipótesis nula se rechaza al nivel de significancia 0.05.\n"
     ]
    }
   ],
   "source": [
    "import pandas as pd\n",
    "from scipy.stats import kstest, norm\n",
    "\n",
    "# Cargar el archivo CSV\n",
    "df = pd.read_csv(\"TempMin.csv\")\n",
    "\n",
    "# Obtener la lista de estaciones únicas\n",
    "estaciones = df['ID_CIDERH'].unique()\n",
    "\n",
    "# Iterar sobre cada estación\n",
    "for estacion_id in estaciones:\n",
    "    # Filtrar los datos para la estación ID_CIDERH específica\n",
    "    estacion_data = df[df['ID_CIDERH'] == estacion_id]\n",
    "\n",
    "    # Seleccionar la variable de interés (TEMP_MIN_RBE)\n",
    "    temp_min_data = estacion_data['TEMP_MIN_RBE']\n",
    "\n",
    "    # Eliminar valores NaN si es necesario\n",
    "    temp_min_data = temp_min_data.dropna()\n",
    "\n",
    "    # Normalizar los datos a una distribución normal estándar\n",
    "    mean = temp_min_data.mean()\n",
    "    std = temp_min_data.std()\n",
    "    standardized_data = (temp_min_data - mean) / std\n",
    "\n",
    "    # Calcular la prueba de Kolmogorov-Smirnov\n",
    "    statistic, p_value = kstest(standardized_data, 'norm')\n",
    "\n",
    "    print(\"Resultados de la prueba de Kolmogorov-Smirnov para la estación\", estacion_id)\n",
    "    print(\"Estadístico de prueba:\", statistic)\n",
    "    print(\"Valor p: {:.2e}\".format(p_value))\n",
    "\n",
    "    # Evaluar si se rechaza la hipótesis nula al nivel de significancia dado\n",
    "    if p_value < significance_level:\n",
    "        print(f\"La hipótesis nula se rechaza al nivel de significancia {significance_level}.\")\n",
    "    else:\n",
    "        print(f\"No se puede rechazar la hipótesis nula al nivel de significancia {significance_level}.\")"
   ]
  },
  {
   "cell_type": "code",
   "execution_count": 14,
   "id": "a282d26f",
   "metadata": {},
   "outputs": [
    {
     "name": "stdout",
     "output_type": "stream",
     "text": [
      "ID_CIDERH   M_009_A_II  M_015_A_II  M_017_A_II  M_023_A_II\n",
      "ID_CIDERH                                                 \n",
      "M_009_A_II    1.000000    0.671844    0.876352    0.943831\n",
      "M_015_A_II    0.671844    1.000000    0.761914    0.731473\n",
      "M_017_A_II    0.876352    0.761914    1.000000    0.935624\n",
      "M_023_A_II    0.943831    0.731473    0.935624    1.000000\n"
     ]
    },
    {
     "data": {
      "image/png": "[encoded data removed]",
      "text/plain": [
       "<Figure size 640x480 with 2 Axes>"
      ]
     },
     "metadata": {},
     "output_type": "display_data"
    },
    {
     "name": "stdout",
     "output_type": "stream",
     "text": [
      "Cantidad de datos de TEMP_MIN_RBE por estación:\n",
      "ID_CIDERH\n",
      "M_009_A_II    6210\n",
      "M_015_A_II    5228\n",
      "M_017_A_II    6210\n",
      "M_023_A_II    6210\n",
      "Name: TEMP_MIN_RBE, dtype: int64\n"
     ]
    }
   ],
   "source": [
    "import pandas as pd\n",
    "import seaborn as sns\n",
    "import matplotlib.pyplot as plt\n",
    "\n",
    "# Cargar el archivo CSV\n",
    "df = pd.read_csv(\"TempMin.csv\")\n",
    "\n",
    "# Renombrar las columnas Anio, Mes y Dia a year, month y day\n",
    "df = df.rename(columns={'Anio': 'year', 'Mes': 'month', 'Dia': 'day'})\n",
    "\n",
    "# Crear la columna FECHA_RBE a partir de las columnas year, month y day\n",
    "df['FECHA_RBE'] = pd.to_datetime(df[['year', 'month', 'day']])\n",
    "\n",
    "# Lista de estaciones específicas\n",
    "estaciones_especificas = ['M_023_A_II', 'M_009_A_II', 'M_017_A_II', 'M_015_A_II']\n",
    "\n",
    "# Filtrar los datos para las estaciones específicas\n",
    "datos_especificos = df[df['ID_CIDERH'].isin(estaciones_especificas)]\n",
    "\n",
    "# Pivotar los datos para obtener una matriz de temperaturas mínimas por fecha y estación\n",
    "matriz_temp_min = datos_especificos.pivot(index='FECHA_RBE', columns='ID_CIDERH', values='TEMP_MIN_RBE')\n",
    "\n",
    "# Calcular la matriz de correlaciones de Spearman\n",
    "matriz_correlaciones = matriz_temp_min.corr(method='spearman')\n",
    "\n",
    "# Mostrar la matriz de correlaciones\n",
    "print(matriz_correlaciones)\n",
    "\n",
    "# Visualizar la matriz de correlaciones con un mapa de calor usando seaborn\n",
    "sns.heatmap(matriz_correlaciones, annot=True, cmap='coolwarm', fmt=\".2f\")\n",
    "plt.title('Matriz de Correlaciones de Spearman Temp Mínima II Región')\n",
    "plt.show()\n",
    "\n",
    "# Contar la cantidad de datos de TEMP_MIN_RBE para cada estación seleccionada\n",
    "cantidad_datos_temp_min_por_estacion = datos_especificos.groupby('ID_CIDERH')['TEMP_MIN_RBE'].count()\n",
    "\n",
    "# Mostrar la cantidad de datos para cada estación\n",
    "print(\"Cantidad de datos de TEMP_MIN_RBE por estación:\")\n",
    "print(cantidad_datos_temp_min_por_estacion)"
   ]
  },
  {
   "cell_type": "code",
   "execution_count": null,
   "id": "8587541d-328a-4e26-96c2-f23d8cc931f3",
   "metadata": {},
   "outputs": [],
   "source": []
  }
 ],
 "metadata": {
  "kernelspec": {
   "display_name": "Python 3 (ipykernel)",
   "language": "python",
   "name": "python3"
  },
  "language_info": {
   "codemirror_mode": {
    "name": "ipython",
    "version": 3
   },
   "file_extension": ".py",
   "mimetype": "text/x-python",
   "name": "python",
   "nbconvert_exporter": "python",
   "pygments_lexer": "ipython3",
   "version": "3.11.7"
  }
 },
 "nbformat": 4,
 "nbformat_minor": 5
}
