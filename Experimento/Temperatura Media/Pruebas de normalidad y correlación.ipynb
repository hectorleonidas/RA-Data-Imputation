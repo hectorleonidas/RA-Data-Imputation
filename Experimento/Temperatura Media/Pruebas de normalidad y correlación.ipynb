{
 "cells": [
  {
   "cell_type": "code",
   "execution_count": 1,
   "id": "c551d455",
   "metadata": {},
   "outputs": [
    {
     "name": "stdout",
     "output_type": "stream",
     "text": [
      "Resultados de la prueba de Anderson-Darling para la estación M_023_A_II\n",
      "Estadístico de Anderson-Darling: 27.644575824220738\n",
      "Valor p aproximado: 3.76e-24\n",
      "La hipótesis nula se rechaza al nivel de significancia 0.05.\n",
      "Resultados de la prueba de Anderson-Darling para la estación M_024_A_II\n",
      "Estadístico de Anderson-Darling: 35.35367115975532\n",
      "Valor p aproximado: 3.76e-24\n",
      "La hipótesis nula se rechaza al nivel de significancia 0.05.\n",
      "Resultados de la prueba de Anderson-Darling para la estación M_022_A_II\n",
      "Estadístico de Anderson-Darling: 14.666990621614787\n",
      "Valor p aproximado: 3.76e-24\n",
      "La hipótesis nula se rechaza al nivel de significancia 0.05.\n",
      "Resultados de la prueba de Anderson-Darling para la estación M_027_A_II\n",
      "Estadístico de Anderson-Darling: 37.26517064982363\n",
      "Valor p aproximado: 3.76e-24\n",
      "La hipótesis nula se rechaza al nivel de significancia 0.05.\n"
     ]
    }
   ],
   "source": [
    "import pandas as pd\n",
    "from scipy.stats import anderson\n",
    "import numpy as np\n",
    "\n",
    "def anderson_darling_p_value(statistic):\n",
    "    \"\"\"Calcula el valor p aproximado para el estadístico de Anderson-Darling.\"\"\"\n",
    "    if statistic < 0.2:\n",
    "        return 1 - np.exp(-13.436 + 101.14 * statistic - 223.73 * statistic**2)\n",
    "    elif statistic < 0.34:\n",
    "        return 1 - np.exp(-8.318 + 42.796 * statistic - 59.938 * statistic**2)\n",
    "    elif statistic < 0.6:\n",
    "        return np.exp(0.9177 - 4.279 * statistic - 1.38 * statistic**2)\n",
    "    elif statistic < 10:\n",
    "        return np.exp(1.2937 - 5.709 * statistic + 0.0186 * statistic**2)\n",
    "    else:\n",
    "        return np.exp(1.2937 - 5.709 * 10 + 0.0186 * 10**2)\n",
    "\n",
    "# Cargar el archivo CSV\n",
    "df = pd.read_csv(\"TempMedia.csv\")\n",
    "\n",
    "# Obtener la lista de estaciones únicas\n",
    "estaciones = df['ID_CIDERH'].unique()\n",
    "\n",
    "# Nivel de significancia para la prueba de Anderson-Darling\n",
    "significance_level = 0.05\n",
    "\n",
    "# Iterar sobre cada estación\n",
    "for estacion_id in estaciones:\n",
    "    # Filtrar los datos para la estación ID_CIDERH específica\n",
    "    estacion_data = df[df['ID_CIDERH'] == estacion_id]\n",
    "\n",
    "    # Seleccionar la variable de interés (TEMP_MEDIA_RBE)\n",
    "    temp_min_data = estacion_data['TEMP_MEDIA_RBE']\n",
    "\n",
    "    # Eliminar valores NaN si es necesario\n",
    "    temp_min_data = temp_min_data.dropna()\n",
    "\n",
    "    # Calcular la prueba de Anderson-Darling\n",
    "    result = anderson(temp_min_data, dist='norm')\n",
    "\n",
    "    print(\"Resultados de la prueba de Anderson-Darling para la estación\", estacion_id)\n",
    "    print(\"Estadístico de Anderson-Darling:\", result.statistic)\n",
    "\n",
    "    # Calcular el valor p aproximado\n",
    "    p_value = anderson_darling_p_value(result.statistic)\n",
    "    print(\"Valor p aproximado: {:.2e}\".format(p_value))\n",
    "\n",
    "    # Evaluar si se rechaza la hipótesis nula al nivel de significancia dado\n",
    "    if p_value < significance_level:\n",
    "        print(f\"La hipótesis nula se rechaza al nivel de significancia {significance_level}.\")\n",
    "    else:\n",
    "        print(f\"No se puede rechazar la hipótesis nula al nivel de significancia {significance_level}.\")"
   ]
  },
  {
   "cell_type": "code",
   "execution_count": 2,
   "id": "a98eb112",
   "metadata": {},
   "outputs": [
    {
     "name": "stdout",
     "output_type": "stream",
     "text": [
      "Estación: M_023_A_II\n",
      "Estadístico de prueba: 0.04169080754340149\n",
      "P-valor: 0.0009999999999998899\n",
      "Estación: M_024_A_II\n",
      "Estadístico de prueba: 0.046609828763829464\n",
      "P-valor: 0.0009999999999998899\n",
      "Estación: M_022_A_II\n",
      "Estadístico de prueba: 0.036968472891327986\n",
      "P-valor: 0.0009999999999998899\n",
      "Estación: M_027_A_II\n",
      "Estadístico de prueba: 0.047826831493758104\n",
      "P-valor: 0.0009999999999998899\n"
     ]
    }
   ],
   "source": [
    "from statsmodels.stats.diagnostic import lilliefors\n",
    "\n",
    "# Cargar datos desde el archivo CSV\n",
    "archivo_csv = \"TempMedia.csv\"\n",
    "datos = pd.read_csv(archivo_csv, low_memory=False)\n",
    "\n",
    "# Filtrar datos para la variable TEMP_MEDIA_RBE\n",
    "variable_interes = 'TEMP_MEDIA_RBE'\n",
    "\n",
    "# Iterar sobre cada estación meteorológica\n",
    "estaciones = datos['ID_CIDERH'].unique()\n",
    "\n",
    "for estacion in estaciones:\n",
    "    # Filtrar datos para la estación actual\n",
    "    datos_estacion = datos[datos['ID_CIDERH'] == estacion][variable_interes]\n",
    "\n",
    "    # Realizar prueba de normalidad de Lilliefors\n",
    "    estadistico, p_valor = lilliefors(datos_estacion)\n",
    "\n",
    "    # Imprimir resultados\n",
    "    print(f\"Estación: {estacion}\")\n",
    "    print(f\"Estadístico de prueba: {estadistico}\")\n",
    "    print(f\"P-valor: {p_valor}\")"
   ]
  },
  {
   "cell_type": "code",
   "execution_count": 3,
   "id": "a9d86008",
   "metadata": {},
   "outputs": [
    {
     "name": "stdout",
     "output_type": "stream",
     "text": [
      "Resultados de la prueba de Kolmogorov-Smirnov para la estación M_023_A_II\n",
      "Estadístico de prueba: 0.041690807543401265\n",
      "Valor p: 2.49e-15\n",
      "La hipótesis nula se rechaza al nivel de significancia 0.05.\n",
      "Resultados de la prueba de Kolmogorov-Smirnov para la estación M_024_A_II\n",
      "Estadístico de prueba: 0.04660982876382902\n",
      "Valor p: 4.69e-19\n",
      "La hipótesis nula se rechaza al nivel de significancia 0.05.\n",
      "Resultados de la prueba de Kolmogorov-Smirnov para la estación M_022_A_II\n",
      "Estadístico de prueba: 0.03696847289132821\n",
      "Valor p: 3.79e-09\n",
      "La hipótesis nula se rechaza al nivel de significancia 0.05.\n",
      "Resultados de la prueba de Kolmogorov-Smirnov para la estación M_027_A_II\n",
      "Estadístico de prueba: 0.04782683149375777\n",
      "Valor p: 4.85e-20\n",
      "La hipótesis nula se rechaza al nivel de significancia 0.05.\n"
     ]
    }
   ],
   "source": [
    "import pandas as pd\n",
    "from scipy.stats import kstest, norm\n",
    "\n",
    "# Cargar el archivo CSV\n",
    "df = pd.read_csv(\"TempMedia.csv\")\n",
    "\n",
    "# Obtener la lista de estaciones únicas\n",
    "estaciones = df['ID_CIDERH'].unique()\n",
    "\n",
    "# Iterar sobre cada estación\n",
    "for estacion_id in estaciones:\n",
    "    # Filtrar los datos para la estación ID_CIDERH específica\n",
    "    estacion_data = df[df['ID_CIDERH'] == estacion_id]\n",
    "\n",
    "    # Seleccionar la variable de interés (TEMP_MEDIA_RBE)\n",
    "    temp_min_data = estacion_data['TEMP_MEDIA_RBE']\n",
    "\n",
    "    # Eliminar valores NaN si es necesario\n",
    "    temp_min_data = temp_min_data.dropna()\n",
    "\n",
    "    # Normalizar los datos a una distribución normal estándar\n",
    "    mean = temp_min_data.mean()\n",
    "    std = temp_min_data.std()\n",
    "    standardized_data = (temp_min_data - mean) / std\n",
    "\n",
    "    # Calcular la prueba de Kolmogorov-Smirnov\n",
    "    statistic, p_value = kstest(standardized_data, 'norm')\n",
    "\n",
    "    print(\"Resultados de la prueba de Kolmogorov-Smirnov para la estación\", estacion_id)\n",
    "    print(\"Estadístico de prueba:\", statistic)\n",
    "    print(\"Valor p: {:.2e}\".format(p_value))\n",
    "\n",
    "    # Evaluar si se rechaza la hipótesis nula al nivel de significancia dado\n",
    "    if p_value < significance_level:\n",
    "        print(f\"La hipótesis nula se rechaza al nivel de significancia {significance_level}.\")\n",
    "    else:\n",
    "        print(f\"No se puede rechazar la hipótesis nula al nivel de significancia {significance_level}.\")"
   ]
  },
  {
   "cell_type": "code",
   "execution_count": 5,
   "id": "b2c576c6",
   "metadata": {},
   "outputs": [
    {
     "name": "stdout",
     "output_type": "stream",
     "text": [
      "ID_CIDERH   M_022_A_II  M_023_A_II  M_024_A_II  M_027_A_II\n",
      "ID_CIDERH                                                 \n",
      "M_022_A_II    1.000000    0.839236    0.854192    0.854108\n",
      "M_023_A_II    0.839236    1.000000    0.990658    0.993168\n",
      "M_024_A_II    0.854192    0.990658    1.000000    0.995737\n",
      "M_027_A_II    0.854108    0.993168    0.995737    1.000000\n"
     ]
    },
    {
     "data": {
      "image/png": "[encoded data removed]",
      "text/plain": [
       "<Figure size 640x480 with 2 Axes>"
      ]
     },
     "metadata": {},
     "output_type": "display_data"
    },
    {
     "name": "stdout",
     "output_type": "stream",
     "text": [
      "Cantidad de datos de TEMP_MEDIA_RBE por estación:\n",
      "ID_CIDERH\n",
      "M_022_A_II    7337\n",
      "M_023_A_II    9861\n",
      "M_024_A_II    9861\n",
      "M_027_A_II    9861\n",
      "Name: TEMP_MEDIA_RBE, dtype: int64\n"
     ]
    }
   ],
   "source": [
    "import pandas as pd\n",
    "import seaborn as sns\n",
    "import matplotlib.pyplot as plt\n",
    "\n",
    "# Cargar el archivo CSV\n",
    "df = pd.read_csv(\"TempMedia.csv\")\n",
    "\n",
    "# Renombrar las columnas Anio, Mes y Dia a year, month y day\n",
    "df = df.rename(columns={'Anio': 'year', 'Mes': 'month', 'Dia': 'day'})\n",
    "\n",
    "# Crear la columna FECHA_RBE a partir de las columnas year, month y day\n",
    "df['FECHA_RBE'] = pd.to_datetime(df[['year', 'month', 'day']])\n",
    "\n",
    "# Lista de estaciones específicas\n",
    "estaciones_especificas = ['M_023_A_II', 'M_024_A_II', 'M_022_A_II', 'M_027_A_II']\n",
    "\n",
    "# Filtrar los datos para las estaciones específicas\n",
    "datos_especificos = df[df['ID_CIDERH'].isin(estaciones_especificas)]\n",
    "\n",
    "# Pivotar los datos para obtener una matriz de temperaturas mínimas por fecha y estación\n",
    "matriz_temp_min = datos_especificos.pivot(index='FECHA_RBE', columns='ID_CIDERH', values='TEMP_MEDIA_RBE')\n",
    "\n",
    "# Calcular la matriz de correlaciones de Spearman\n",
    "matriz_correlaciones = matriz_temp_min.corr(method='spearman')\n",
    "\n",
    "# Mostrar la matriz de correlaciones\n",
    "print(matriz_correlaciones)\n",
    "\n",
    "# Visualizar la matriz de correlaciones con un mapa de calor usando seaborn\n",
    "sns.heatmap(matriz_correlaciones, annot=True, cmap='coolwarm', fmt=\".2f\")\n",
    "plt.title('Matriz de Correlaciones de Spearman Temp Media II Región')\n",
    "plt.show()\n",
    "\n",
    "# Contar la cantidad de datos de TEMP_MIN_RBE para cada estación seleccionada\n",
    "cantidad_datos_temp_min_por_estacion = datos_especificos.groupby('ID_CIDERH')['TEMP_MEDIA_RBE'].count()\n",
    "\n",
    "# Mostrar la cantidad de datos para cada estación\n",
    "print(\"Cantidad de datos de TEMP_MEDIA_RBE por estación:\")\n",
    "print(cantidad_datos_temp_min_por_estacion)"
   ]
  },
  {
   "cell_type": "code",
   "execution_count": null,
   "id": "b1568322-e79c-4ad7-97f5-41dbabcf2ac0",
   "metadata": {},
   "outputs": [],
   "source": []
  }
 ],
 "metadata": {
  "kernelspec": {
   "display_name": "Python 3 (ipykernel)",
   "language": "python",
   "name": "python3"
  },
  "language_info": {
   "codemirror_mode": {
    "name": "ipython",
    "version": 3
   },
   "file_extension": ".py",
   "mimetype": "text/x-python",
   "name": "python",
   "nbconvert_exporter": "python",
   "pygments_lexer": "ipython3",
   "version": "3.11.7"
  }
 },
 "nbformat": 4,
 "nbformat_minor": 5
}
