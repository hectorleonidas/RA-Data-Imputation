{
 "cells": [
  {
   "cell_type": "code",
   "execution_count": 1,
   "id": "30640e2a-9728-4327-a5c7-1e179364cb13",
   "metadata": {},
   "outputs": [
    {
     "name": "stdout",
     "output_type": "stream",
     "text": [
      "          ID_CIDERH COD_ESTACION_RA       FECHA TIPO_INTERPOLACION  \\\n",
      "0        M_001_A_XV   RA_M_001_A_XV  1979-01-01    Weighed Average   \n",
      "1        M_001_A_XV   RA_M_001_A_XV  1979-01-02    Weighed Average   \n",
      "2        M_001_A_XV   RA_M_001_A_XV  1979-01-03    Weighed Average   \n",
      "3        M_001_A_XV   RA_M_001_A_XV  1979-01-04    Weighed Average   \n",
      "4        M_001_A_XV   RA_M_001_A_XV  1979-01-05    Weighed Average   \n",
      "...             ...             ...         ...                ...   \n",
      "1095475    M_288_AA     RA_M_288_AA  2014-04-10    Weighed Average   \n",
      "1095476    M_288_AA     RA_M_288_AA  2014-04-11    Weighed Average   \n",
      "1095477    M_288_AA     RA_M_288_AA  2014-04-12    Weighed Average   \n",
      "1095478    M_288_AA     RA_M_288_AA  2014-04-13    Weighed Average   \n",
      "1095479    M_288_AA     RA_M_288_AA  2014-04-14    Weighed Average   \n",
      "\n",
      "        FECHA_REGISTRO       TMED       TMAX       TMIN         PP  \n",
      "0           2015-12-27  14.327112  15.751245  12.823885   0.021710  \n",
      "1           2015-12-27  14.561357  16.037843  12.976587   1.095652  \n",
      "2           2015-12-27  13.950983  15.708269  12.829805   1.993367  \n",
      "3           2015-12-27  13.860696  15.117387  12.634668   3.002830  \n",
      "4           2015-12-27  13.437219  14.308656  12.330217   3.713686  \n",
      "...                ...        ...        ...        ...        ...  \n",
      "1095475     2015-12-27  20.873710  21.433007  20.113049   8.364909  \n",
      "1095476     2015-12-27  17.681174  18.738039  17.672723  95.996511  \n",
      "1095477     2015-12-27  17.397952  18.428130  15.956547   1.448605  \n",
      "1095478     2015-12-27  16.428300  18.596146  14.743565   0.000000  \n",
      "1095479     2015-12-27  11.591409  14.894426  11.601442   0.000000  \n",
      "\n",
      "[1095480 rows x 9 columns]\n"
     ]
    }
   ],
   "source": [
    "import pandas as pd\n",
    "import seaborn as sns\n",
    "import numpy as np\n",
    "import matplotlib.pyplot as plt\n",
    "from scipy.stats import spearmanr\n",
    "\n",
    "archivo_csv = \"DatosRA.csv\"\n",
    "datos = pd.read_csv(archivo_csv)\n",
    "\n",
    "print(datos)"
   ]
  },
  {
   "cell_type": "code",
   "execution_count": 2,
   "id": "59cea952-6399-44f3-b4a4-4d969c7fbfe4",
   "metadata": {},
   "outputs": [
    {
     "name": "stdout",
     "output_type": "stream",
     "text": [
      "La ID_CIDERH 'M_036_A_XV' posee 12888 datos de TMED.\n"
     ]
    }
   ],
   "source": [
    "# Filtrar los datos para la ID_CIDERH \"M_036_A_XV\"\n",
    "datos_filtrados = datos[datos['ID_CIDERH'] == \"M_036_A_XV\"]\n",
    "\n",
    "# Contar cuántos datos de TMED existen para esa ID\n",
    "cantidad_tmed = datos_filtrados['TMED'].count()\n",
    "\n",
    "print(f\"La ID_CIDERH 'M_036_A_XV' posee {cantidad_tmed} datos de TMED.\")"
   ]
  },
  {
   "cell_type": "code",
   "execution_count": 3,
   "id": "1c1c0e71-6014-494d-a86a-1caee737c5d0",
   "metadata": {},
   "outputs": [
    {
     "name": "stdout",
     "output_type": "stream",
     "text": [
      "La ID_CIDERH 'M_027_A_II' posee 12888 datos de TMAX.\n"
     ]
    }
   ],
   "source": [
    "# Filtrar los datos para la ID_CIDERH \"M_027_A_II\"\n",
    "datos_filtrados = datos[datos['ID_CIDERH'] == \"M_027_A_II\"]\n",
    "\n",
    "# Contar cuántos datos de TMED existen para esa ID\n",
    "cantidad_tmed = datos_filtrados['TMAX'].count()\n",
    "\n",
    "print(f\"La ID_CIDERH 'M_027_A_II' posee {cantidad_tmed} datos de TMAX.\")"
   ]
  },
  {
   "cell_type": "code",
   "execution_count": 4,
   "id": "ea5ebb79-4a40-46a3-9521-6deccf5349de",
   "metadata": {},
   "outputs": [
    {
     "name": "stdout",
     "output_type": "stream",
     "text": [
      "La ID_CIDERH 'M_023_A_II' posee 12888 datos de TMAX.\n"
     ]
    }
   ],
   "source": [
    "# Filtrar los datos para la ID_CIDERH \"M_023_A_II\"\n",
    "datos_filtrados = datos[datos['ID_CIDERH'] == \"M_023_A_II\"]\n",
    "\n",
    "# Contar cuántos datos de TMED existen para esa ID\n",
    "cantidad_tmed = datos_filtrados['TMAX'].count()\n",
    "\n",
    "print(f\"La ID_CIDERH 'M_023_A_II' posee {cantidad_tmed} datos de TMAX.\")"
   ]
  },
  {
   "cell_type": "code",
   "execution_count": null,
   "id": "b9330bab-82dc-45a6-ae78-f8b5c7b2da85",
   "metadata": {},
   "outputs": [],
   "source": []
  }
 ],
 "metadata": {
  "kernelspec": {
   "display_name": "Python [conda env:base] *",
   "language": "python",
   "name": "conda-base-py"
  },
  "language_info": {
   "codemirror_mode": {
    "name": "ipython",
    "version": 3
   },
   "file_extension": ".py",
   "mimetype": "text/x-python",
   "name": "python",
   "nbconvert_exporter": "python",
   "pygments_lexer": "ipython3",
   "version": "3.13.5"
  }
 },
 "nbformat": 4,
 "nbformat_minor": 5
}
