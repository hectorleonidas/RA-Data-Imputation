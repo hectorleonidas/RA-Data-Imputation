{
 "cells": [
  {
   "cell_type": "code",
   "execution_count": null,
   "id": "c41c66b9",
   "metadata": {},
   "outputs": [],
   "source": [
    "import folium\n",
    "import pandas as pd\n",
    "\n",
    "# Lee el archivo CSV con las latitudes y longitudes\n",
    "data = pd.read_csv('Estaciones.csv', encoding='latin-1', low_memory=False)\n",
    "\n",
    "estaciones_anteriores = {'M_015_A_II', 'M_006_A_II', 'M_009_A_II', 'M_022_A_II', 'M_001_B_XV', 'M_040_A_XV', 'M_037_A_XV',\n",
    "                       'M_001_A_XV', 'M_015_A_II', 'M_017_A_II', 'M_009_A_II', 'M_024_A_II', 'M_031_A_XV', 'M_007_A_XV', \n",
    "                       'M_030_A_XV', 'M_033_A_XV'}\n",
    "\n",
    "estaciones_nuevas = {'M_002_AJ', 'M_016_A', 'M_005_Q', 'M_005_AH', 'M_001_W', 'M_002_W', 'M_002_Q', 'M_019_A', 'M_022_A_II',\n",
    "                    'M_023_A_II', 'M_024_A_II', 'M_027_A_II', 'M_015_A_XV', 'M_014_A_XV', 'M_013_A_XV', 'M_016_A_XV'}\n",
    "\n",
    "# Filtra los datos solo para las estaciones anteriores\n",
    "data_anteriores = data[data['ID_CIDERH'].isin(estaciones_anteriores)]\n",
    "\n",
    "# Filtra los datos solo para las estaciones nuevas\n",
    "data_nuevas = data[data['ID_CIDERH'].isin(estaciones_nuevas)]\n",
    "\n",
    "# Crea un mapa centrado en una ubicación inicial para las estaciones anteriores\n",
    "mapa_anteriores = folium.Map(location=[data_anteriores['LAT_Y'].mean(), data_anteriores['LON_X'].mean()], zoom_start=10)\n",
    "\n",
    "# Añade marcadores para las estaciones anteriores usando 'ID_CIDERH' con color rojo\n",
    "for index, row in data_anteriores.iterrows():\n",
    "    popup_text = f\"ID_CIDERH Anterior: {row['ID_CIDERH']}\"\n",
    "    folium.Marker([row['LAT_Y'], row['LON_X']], popup=popup_text, icon=folium.Icon(color='red')).add_to(mapa_anteriores)\n",
    "\n",
    "# Crea un mapa centrado en una ubicación inicial para las estaciones nuevas\n",
    "mapa_nuevas = folium.Map(location=[data_nuevas['LAT_Y'].mean(), data_nuevas['LON_X'].mean()], zoom_start=10)\n",
    "\n",
    "# Añade marcadores para las estaciones nuevas usando 'ID_CIDERH' con color verde\n",
    "for index, row in data_nuevas.iterrows():\n",
    "    popup_text = f\"ID_CIDERH Nueva: {row['ID_CIDERH']}\"\n",
    "    folium.Marker([row['LAT_Y'], row['LON_X']], popup=popup_text, icon=folium.Icon(color='green')).add_to(mapa_nuevas)\n",
    "\n",
    "# Guarda ambos mapas en un solo archivo HTML\n",
    "mapa_anteriores.save('Mapa_Estaciones_Anteriores.html')\n",
    "mapa_nuevas.save('Mapa_Estaciones_Nuevas.html')"
   ]
  },
  {
   "cell_type": "code",
   "execution_count": 4,
   "id": "fd1a83a0",
   "metadata": {},
   "outputs": [],
   "source": [
    "import folium\n",
    "import pandas as pd\n",
    "\n",
    "# Lee el archivo CSV con las latitudes y longitudes\n",
    "data = pd.read_csv('Estaciones.csv', encoding='latin-1', low_memory=False)\n",
    "\n",
    "# Crea un mapa centrado en una ubicación inicial\n",
    "mapa = folium.Map(location=[data['LAT_Y'].mean(), data['LON_X'].mean()], zoom_start=10)\n",
    "\n",
    "# Añade marcadores para cada estación meteorológica usando 'ID_CIDERH'\n",
    "for index, row in data.iterrows():\n",
    "    popup_text = f\"ID_CIDERH: {row['ID_CIDERH']}\"\n",
    "    folium.Marker([row['LAT_Y'], row['LON_X']], popup=popup_text).add_to(mapa)\n",
    "\n",
    "# Guarda el mapa como un archivo HTML\n",
    "mapa.save('Mapa_Estaciones_General.html')"
   ]
  },
  {
   "cell_type": "code",
   "execution_count": 5,
   "id": "05233046",
   "metadata": {},
   "outputs": [],
   "source": [
    "import folium\n",
    "\n",
    "# Coordenadas aproximadas de las capitales de las regiones mencionadas\n",
    "ubicaciones = {\n",
    "    \"Arica y Parinacota\": [-18.478253, -70.312599], # Coordenadas de Arica\n",
    "    \"Tarapacá (Iquique)\": [-20.214065, -70.152465], # Coordenadas de Iquique\n",
    "    \"Antofagasta\": [-23.652363, -70.395401]         # Coordenadas de Antofagasta\n",
    "}\n",
    "\n",
    "# Crea un mapa centrado en un punto medio aproximado entre las regiones\n",
    "mapa = folium.Map(location=[-20.782932, -70.286585], zoom_start=5)\n",
    "\n",
    "# Añade marcadores para cada región\n",
    "for region, coords in ubicaciones.items():\n",
    "    folium.Marker(coords, popup=region).add_to(mapa)\n",
    "\n",
    "# Guarda el mapa como un archivo HTML\n",
    "mapa.save('Mapa_Regiones_Chile.html')"
   ]
  },
  {
   "cell_type": "code",
   "execution_count": null,
   "id": "bb614a31",
   "metadata": {},
   "outputs": [],
   "source": []
  }
 ],
 "metadata": {
  "kernelspec": {
   "display_name": "Python 3 (ipykernel)",
   "language": "python",
   "name": "python3"
  },
  "language_info": {
   "codemirror_mode": {
    "name": "ipython",
    "version": 3
   },
   "file_extension": ".py",
   "mimetype": "text/x-python",
   "name": "python",
   "nbconvert_exporter": "python",
   "pygments_lexer": "ipython3",
   "version": "3.11.5"
  }
 },
 "nbformat": 4,
 "nbformat_minor": 5
}
